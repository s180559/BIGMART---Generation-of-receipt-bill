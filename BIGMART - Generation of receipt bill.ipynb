{
 "cells": [
  {
   "cell_type": "code",
   "execution_count": 4,
   "id": "4927be99",
   "metadata": {},
   "outputs": [
    {
     "name": "stdout",
     "output_type": "stream",
     "text": [
      "calling 8341883853\n"
     ]
    }
   ],
   "source": [
    "class mobile:\n",
    "    def __init__(self,name,model):\n",
    "        self.name=name;\n",
    "        self.model=model;\n",
    "    def makecall(self,number):\n",
    "        print(\"calling {}\".format(number));\n",
    "mobileobj=mobile(\"realme\",\"9i\");\n",
    "mobileobj.makecall(8341883853);\n"
   ]
  },
  {
   "cell_type": "code",
   "execution_count": 5,
   "id": "67a071af",
   "metadata": {},
   "outputs": [
    {
     "name": "stdout",
     "output_type": "stream",
     "text": [
      "2877430525440\n"
     ]
    }
   ],
   "source": [
    "print(id(mobileobj))"
   ]
  },
  {
   "cell_type": "code",
   "execution_count": 6,
   "id": "07f4ee6f",
   "metadata": {},
   "outputs": [
    {
     "name": "stdout",
     "output_type": "stream",
     "text": [
      "<class '__main__.mobile'>\n"
     ]
    }
   ],
   "source": [
    "print(type(mobileobj))"
   ]
  },
  {
   "cell_type": "markdown",
   "id": "ada60428",
   "metadata": {},
   "source": [
    "# Let’s model the scenario of shopping cart of ecommerce site.\n",
    "\n",
    "# The features a cart should have\n",
    "\n",
    "# #can add an item\n",
    "# #can remove an item from cart\n",
    "# #update quantity of an item\n",
    "# #to show list of items in cart\n",
    "# #to show total price for the items in the cart"
   ]
  },
  {
   "cell_type": "code",
   "execution_count": 16,
   "id": "c1c8a353",
   "metadata": {},
   "outputs": [
    {
     "name": "stdout",
     "output_type": "stream",
     "text": [
      "6300\n",
      "['book']\n",
      "4200\n"
     ]
    }
   ],
   "source": [
    "class cart:\n",
    "    def __init__(self):\n",
    "        self.items={}\n",
    "        self.pricedetails={\"book\":2100,\"laptop\":5200}\n",
    "    def additem(self,item,quantity):\n",
    "        self.items[item]=quantity\n",
    "    def removeitem(self,item):\n",
    "        del self.items[item]\n",
    "    def updatequantity(self,item,quantity):\n",
    "        self.items[item]=quantity\n",
    "    def getcartitems(self):\n",
    "        cartitems=list(self.items.keys())\n",
    "        return cartitems\n",
    "    def gettotalprice(self):\n",
    "        totalprice=0\n",
    "        for item,quantity in self.items.items():\n",
    "            totalprice+= quantity*self.pricedetails[item]\n",
    "            return totalprice\n",
    "cartobj=cart()\n",
    "cartobj.additem(\"book\",3)\n",
    "cartobj.additem(\"laptop\",1)\n",
    "print(cartobj.gettotalprice());\n",
    "cartobj.removeitem(\"laptop\")\n",
    "print(cartobj.getcartitems())\n",
    "cartobj.updatequantity(\"book\",2)\n",
    "print(cartobj.gettotalprice());"
   ]
  },
  {
   "cell_type": "markdown",
   "id": "0a6a35a9",
   "metadata": {},
   "source": [
    "# Design and implement placing order with the details of all the products bought"
   ]
  },
  {
   "cell_type": "code",
   "execution_count": 30,
   "id": "d3fde85d",
   "metadata": {},
   "outputs": [
    {
     "name": "stdout",
     "output_type": "stream",
     "text": [
      "Product is Milk\n",
      "Price is 40\n",
      "Deal price of the product is 25\n",
      "Rating of the product is 3.5\n",
      "You saved 15\n",
      "Product is TV\n",
      "Price is 45000\n",
      "Deal price of the product is 40000\n",
      "Rating of the product is 3.5\n",
      "You saved 5000\n",
      "Total bill=40050\n"
     ]
    }
   ],
   "source": [
    "class Product:\n",
    "    def __init__(self,name,price,dealprice,ratings):\n",
    "        self.name=name\n",
    "        self.price=price\n",
    "        self.dealprice=dealprice\n",
    "        self.ratings=ratings\n",
    "        self.yousave=price-dealprice\n",
    "    def displayproductdetails(self):\n",
    "        print(\"Product is {}\".format(self.name))\n",
    "        print(\"Price is {}\".format(self.price))\n",
    "        print(\"Deal price of the product is {}\".format(self.dealprice))\n",
    "        print(\"Rating of the product is {}\".format(self.ratings))\n",
    "        print(\"You saved {}\".format(self.yousave))\n",
    "    def getdealprice(self):\n",
    "        return self.dealprice\n",
    "class electronicitem(Product):\n",
    "    def setwarranty(self,warrantyinmonths):\n",
    "        self.warrantyinmonths=warrantyinmonths\n",
    "    def getwarranty(self):\n",
    "        return self.warrantyinmonths\n",
    "class groceryitem(Product):\n",
    "    def setmanufacturedate(self,manufactureinmonths):\n",
    "        self.manufactureinmonths=manufactureinmonths\n",
    "    def getmanufacturedate(self):\n",
    "        return self.manufactureinmonths\n",
    "    def setexpiredate(self,manufactureinmonths):\n",
    "        self.expireinmonths=expireinmonths\n",
    "    def getexpiredate(self):\n",
    "        return self.expireinmonths\n",
    "class Order:\n",
    "    def __init__(self,deliveryspeed,deliveryaddress):\n",
    "        self.items_in_cart=[]\n",
    "        self.deliveryspeed=deliveryspeed\n",
    "        self.deliveryaddress=deliveryaddress\n",
    "    def additem(self, product, quantity):\n",
    "        self.items_in_cart.append((product, quantity))\n",
    "\n",
    "    def display_order_details(self):\n",
    "        for product,quantity in self.items_in_cart:\n",
    "            product.displayproductdetails()\n",
    "            \n",
    "    def display_total_bill(self):\n",
    "        totalbill=0\n",
    "        for product,quantity in self.items_in_cart:\n",
    "            price=product.getdealprice()*quantity\n",
    "            totalbill+=price \n",
    "        print(\"Total bill={}\".format(totalbill))\n",
    "milk = groceryitem(\"Milk\",40, 25, 3.5)\n",
    "tv = electronicitem(\"TV\",45000, 40000, 3.5)\n",
    "order = Order(\"Prime Delivery\", \"Hyderabad\")\n",
    "order.additem(milk,2)\n",
    "order.additem(tv,1)\n",
    "order.display_order_details()\n",
    "order.display_total_bill()"
   ]
  },
  {
   "cell_type": "code",
   "execution_count": null,
   "id": "6f1b5a4d",
   "metadata": {},
   "outputs": [],
   "source": []
  }
 ],
 "metadata": {
  "kernelspec": {
   "display_name": "Python 3 (ipykernel)",
   "language": "python",
   "name": "python3"
  },
  "language_info": {
   "codemirror_mode": {
    "name": "ipython",
    "version": 3
   },
   "file_extension": ".py",
   "mimetype": "text/x-python",
   "name": "python",
   "nbconvert_exporter": "python",
   "pygments_lexer": "ipython3",
   "version": "3.10.9"
  }
 },
 "nbformat": 4,
 "nbformat_minor": 5
}
